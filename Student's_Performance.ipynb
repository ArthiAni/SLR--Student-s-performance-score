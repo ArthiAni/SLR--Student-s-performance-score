{
  "nbformat": 4,
  "nbformat_minor": 0,
  "metadata": {
    "colab": {
      "name": "Student's Performance in Exam.ipynb",
      "provenance": [],
      "collapsed_sections": []
    },
    "kernelspec": {
      "name": "python3",
      "display_name": "Python 3"
    }
  },
  "cells": [
    {
      "cell_type": "markdown",
      "metadata": {
        "id": "--oP2hjZyexu"
      },
      "source": [
        "### **Student's performance in Exam using Simple Linear Regression**"
      ]
    },
    {
      "cell_type": "markdown",
      "metadata": {
        "id": "0jV8D5mE5Knn"
      },
      "source": [
        "Simple linear regression is a statistical method to find relationship between two continuous variables. Out of two variables, one is dependent variable and the other is independent variable.\r\n",
        "\r\n",
        "The relationship between independent and dependent variable is defined by a line equation,\r\n",
        "\r\n",
        "```\r\n",
        "Y = b0 + b1 (X)\r\n",
        "\r\n",
        "where,\r\n",
        "Y is dependent variable\r\n",
        "X is independent variable\r\n",
        "b0 is intercept value of the relationship\r\n",
        "b1 is the slope line explaining the relationship between Y and X\r\n",
        "```\r\n"
      ]
    },
    {
      "cell_type": "markdown",
      "metadata": {
        "id": "JzwO8w6H9YBa"
      },
      "source": [
        "For instance, Y refers to how the scores of a student change with the number of hours they studied or prepared for exam. So in this case, scores would be dependent and number of hours would be independent."
      ]
    },
    {
      "cell_type": "markdown",
      "metadata": {
        "id": "TWP-W9pDvYnR"
      },
      "source": [
        "**Step 1 - Importing required libraries**"
      ]
    },
    {
      "cell_type": "code",
      "metadata": {
        "id": "H-m1FPT94tz3"
      },
      "source": [
        "import pandas as pd\r\n",
        "import numpy as np\r\n",
        "import matplotlib.pyplot as plt\r\n",
        "%matplotlib inline "
      ],
      "execution_count": 1,
      "outputs": []
    },
    {
      "cell_type": "markdown",
      "metadata": {
        "id": "Ri5T9IIdvwHC"
      },
      "source": [
        "**Step 2 - Importing the dataset**"
      ]
    },
    {
      "cell_type": "code",
      "metadata": {
        "colab": {
          "base_uri": "https://localhost:8080/",
          "height": 194
        },
        "id": "XwxhQVU2ys3R",
        "outputId": "3f15819f-bf13-4271-d404-f87fbf2a4e8d"
      },
      "source": [
        "link = \"http://bit.ly/w-data\"\r\n",
        "data = pd.read_csv(link)\r\n",
        "data.head(5)"
      ],
      "execution_count": 2,
      "outputs": [
        {
          "output_type": "execute_result",
          "data": {
            "text/html": [
              "<div>\n",
              "<style scoped>\n",
              "    .dataframe tbody tr th:only-of-type {\n",
              "        vertical-align: middle;\n",
              "    }\n",
              "\n",
              "    .dataframe tbody tr th {\n",
              "        vertical-align: top;\n",
              "    }\n",
              "\n",
              "    .dataframe thead th {\n",
              "        text-align: right;\n",
              "    }\n",
              "</style>\n",
              "<table border=\"1\" class=\"dataframe\">\n",
              "  <thead>\n",
              "    <tr style=\"text-align: right;\">\n",
              "      <th></th>\n",
              "      <th>Hours</th>\n",
              "      <th>Scores</th>\n",
              "    </tr>\n",
              "  </thead>\n",
              "  <tbody>\n",
              "    <tr>\n",
              "      <th>0</th>\n",
              "      <td>2.5</td>\n",
              "      <td>21</td>\n",
              "    </tr>\n",
              "    <tr>\n",
              "      <th>1</th>\n",
              "      <td>5.1</td>\n",
              "      <td>47</td>\n",
              "    </tr>\n",
              "    <tr>\n",
              "      <th>2</th>\n",
              "      <td>3.2</td>\n",
              "      <td>27</td>\n",
              "    </tr>\n",
              "    <tr>\n",
              "      <th>3</th>\n",
              "      <td>8.5</td>\n",
              "      <td>75</td>\n",
              "    </tr>\n",
              "    <tr>\n",
              "      <th>4</th>\n",
              "      <td>3.5</td>\n",
              "      <td>30</td>\n",
              "    </tr>\n",
              "  </tbody>\n",
              "</table>\n",
              "</div>"
            ],
            "text/plain": [
              "   Hours  Scores\n",
              "0    2.5      21\n",
              "1    5.1      47\n",
              "2    3.2      27\n",
              "3    8.5      75\n",
              "4    3.5      30"
            ]
          },
          "metadata": {
            "tags": []
          },
          "execution_count": 2
        }
      ]
    },
    {
      "cell_type": "markdown",
      "metadata": {
        "id": "dmJkaUErwcla"
      },
      "source": [
        "**Step 3 - Visualizing the data**"
      ]
    },
    {
      "cell_type": "code",
      "metadata": {
        "colab": {
          "base_uri": "https://localhost:8080/",
          "height": 295
        },
        "id": "scEe3bh_0GZg",
        "outputId": "b5539860-8d7f-460d-e8ab-0ccff986c128"
      },
      "source": [
        "data.plot(x='Hours', y='Scores', c='red', style='o')\r\n",
        "\r\n",
        "plt.title('Hours vs Percentage')\r\n",
        "plt.xlabel('Hours Studied')\r\n",
        "plt.ylabel('Percentage Score')\r\n",
        "plt.show()"
      ],
      "execution_count": 3,
      "outputs": [
        {
          "output_type": "display_data",
          "data": {
            "image/png": "[encoded data removed]",
            "text/plain": [
              "<Figure size 432x288 with 1 Axes>"
            ]
          },
          "metadata": {
            "tags": [],
            "needs_background": "light"
          }
        }
      ]
    },
    {
      "cell_type": "markdown",
      "metadata": {
        "id": "4gub0FVc-qje"
      },
      "source": [
        "So by visualising the data, we can say that Simple linear regression will tell us what is the best fitting line for this relationship."
      ]
    },
    {
      "cell_type": "markdown",
      "metadata": {
        "id": "Vn45X_S2wiS5"
      },
      "source": [
        "**Step 4 - Performing data preprocessing**"
      ]
    },
    {
      "cell_type": "code",
      "metadata": {
        "id": "R_7jIk-E1BzL"
      },
      "source": [
        "X = data.iloc[:, :-1].values  \r\n",
        "y = data.iloc[:, 1].values  "
      ],
      "execution_count": 4,
      "outputs": []
    },
    {
      "cell_type": "markdown",
      "metadata": {
        "id": "mEsrGEpjBwmg"
      },
      "source": [
        "Splitting dataset is essential for an unbiased evaluation of prediction performance."
      ]
    },
    {
      "cell_type": "code",
      "metadata": {
        "id": "fna3dQSL3KQQ"
      },
      "source": [
        "from sklearn.model_selection import train_test_split  \r\n",
        "X_train, X_test, y_train, y_test = train_test_split(X, y, \r\n",
        "                            test_size=0.2, random_state=0) "
      ],
      "execution_count": 5,
      "outputs": []
    },
    {
      "cell_type": "markdown",
      "metadata": {
        "id": "oK4p19tIwufF"
      },
      "source": [
        "**Step 5 - Fit the dataset into Simple linear regression model**"
      ]
    },
    {
      "cell_type": "code",
      "metadata": {
        "colab": {
          "base_uri": "https://localhost:8080/"
        },
        "id": "7Nv_YAxb3apj",
        "outputId": "a3ecb635-822f-4091-9943-2c4fec787f6b"
      },
      "source": [
        "from sklearn.linear_model import LinearRegression  \r\n",
        "regressor = LinearRegression()  \r\n",
        "regressor.fit(X_train, y_train) "
      ],
      "execution_count": 6,
      "outputs": [
        {
          "output_type": "execute_result",
          "data": {
            "text/plain": [
              "LinearRegression(copy_X=True, fit_intercept=True, n_jobs=None, normalize=False)"
            ]
          },
          "metadata": {
            "tags": []
          },
          "execution_count": 6
        }
      ]
    },
    {
      "cell_type": "code",
      "metadata": {
        "id": "fpZ9iFl55IjM"
      },
      "source": [
        "line = (regressor.coef_*X)+regressor.intercept_"
      ],
      "execution_count": 7,
      "outputs": []
    },
    {
      "cell_type": "markdown",
      "metadata": {
        "id": "X5yQH4HIyAMS"
      },
      "source": [
        "**Step 6 - Visualising the correlation in the dataset**"
      ]
    },
    {
      "cell_type": "code",
      "metadata": {
        "colab": {
          "base_uri": "https://localhost:8080/",
          "height": 295
        },
        "id": "lX-V8Mu38hGI",
        "outputId": "83a39859-6950-457a-cf4b-408d6d8ee422"
      },
      "source": [
        "plt.scatter(X, y, c='red', label='Scores')\r\n",
        "plt.plot(X, line, c='black', label='Linear Regression')\r\n",
        "\r\n",
        "plt.title('Hours vs Percentage')\r\n",
        "plt.xlabel('Hours Studied')\r\n",
        "plt.ylabel('Percentage Score')\r\n",
        "plt.legend()\r\n",
        "plt.show()"
      ],
      "execution_count": 8,
      "outputs": [
        {
          "output_type": "display_data",
          "data": {
            "image/png": "[encoded data removed]",
            "text/plain": [
              "<Figure size 432x288 with 1 Axes>"
            ]
          },
          "metadata": {
            "tags": [],
            "needs_background": "light"
          }
        }
      ]
    },
    {
      "cell_type": "code",
      "metadata": {
        "colab": {
          "base_uri": "https://localhost:8080/"
        },
        "id": "I7B7taKG876a",
        "outputId": "034e8a98-74b2-4ad6-a1f9-1ef6bad75ae5"
      },
      "source": [
        "print(X_test)\r\n",
        "y_pred = regressor.predict(X_test)"
      ],
      "execution_count": 9,
      "outputs": [
        {
          "output_type": "stream",
          "text": [
            "[[1.5]\n",
            " [3.2]\n",
            " [7.4]\n",
            " [2.5]\n",
            " [5.9]]\n"
          ],
          "name": "stdout"
        }
      ]
    },
    {
      "cell_type": "code",
      "metadata": {
        "colab": {
          "base_uri": "https://localhost:8080/",
          "height": 194
        },
        "id": "YEDPHzyEAzHc",
        "outputId": "64d1e272-8312-42ea-9dc6-35cc4c4cd366"
      },
      "source": [
        "df = pd.DataFrame({'Actual': y_test, 'Predicted': y_pred})  \r\n",
        "df "
      ],
      "execution_count": 10,
      "outputs": [
        {
          "output_type": "execute_result",
          "data": {
            "text/html": [
              "<div>\n",
              "<style scoped>\n",
              "    .dataframe tbody tr th:only-of-type {\n",
              "        vertical-align: middle;\n",
              "    }\n",
              "\n",
              "    .dataframe tbody tr th {\n",
              "        vertical-align: top;\n",
              "    }\n",
              "\n",
              "    .dataframe thead th {\n",
              "        text-align: right;\n",
              "    }\n",
              "</style>\n",
              "<table border=\"1\" class=\"dataframe\">\n",
              "  <thead>\n",
              "    <tr style=\"text-align: right;\">\n",
              "      <th></th>\n",
              "      <th>Actual</th>\n",
              "      <th>Predicted</th>\n",
              "    </tr>\n",
              "  </thead>\n",
              "  <tbody>\n",
              "    <tr>\n",
              "      <th>0</th>\n",
              "      <td>20</td>\n",
              "      <td>16.884145</td>\n",
              "    </tr>\n",
              "    <tr>\n",
              "      <th>1</th>\n",
              "      <td>27</td>\n",
              "      <td>33.732261</td>\n",
              "    </tr>\n",
              "    <tr>\n",
              "      <th>2</th>\n",
              "      <td>69</td>\n",
              "      <td>75.357018</td>\n",
              "    </tr>\n",
              "    <tr>\n",
              "      <th>3</th>\n",
              "      <td>30</td>\n",
              "      <td>26.794801</td>\n",
              "    </tr>\n",
              "    <tr>\n",
              "      <th>4</th>\n",
              "      <td>62</td>\n",
              "      <td>60.491033</td>\n",
              "    </tr>\n",
              "  </tbody>\n",
              "</table>\n",
              "</div>"
            ],
            "text/plain": [
              "   Actual  Predicted\n",
              "0      20  16.884145\n",
              "1      27  33.732261\n",
              "2      69  75.357018\n",
              "3      30  26.794801\n",
              "4      62  60.491033"
            ]
          },
          "metadata": {
            "tags": []
          },
          "execution_count": 10
        }
      ]
    },
    {
      "cell_type": "code",
      "metadata": {
        "colab": {
          "base_uri": "https://localhost:8080/"
        },
        "id": "u-qzVaptBdFi",
        "outputId": "681adab3-56a2-4261-ca29-2e4045f1d567"
      },
      "source": [
        "from sklearn import metrics  \r\n",
        "print('Mean Absolute Error:', \r\n",
        "      metrics.mean_absolute_error(y_test, y_pred)) "
      ],
      "execution_count": 11,
      "outputs": [
        {
          "output_type": "stream",
          "text": [
            "Mean Absolute Error: 4.183859899002982\n"
          ],
          "name": "stdout"
        }
      ]
    },
    {
      "cell_type": "markdown",
      "metadata": {
        "id": "Uh71oGhcEVU4"
      },
      "source": [
        "The Mean Absolute Error value is 4.184, which shows that, \r\n",
        "\r\n",
        "```\r\n",
        "Predicted value = Actual value + MAE (or) Actual value - MAE \r\n",
        "```\r\n",
        "From the above dataframe, the actual value is 20 but the predicted value is 16.88 (20 - 3.12)\r\n",
        "\r\n",
        "Error between predicted and actual value is less."
      ]
    },
    {
      "cell_type": "code",
      "metadata": {
        "colab": {
          "base_uri": "https://localhost:8080/"
        },
        "id": "VwNy-r4GC2No",
        "outputId": "f583daf6-3771-4828-9d57-497b655b83a0"
      },
      "source": [
        "print('Coefficient of determination:', metrics.r2_score(y_test,y_pred))"
      ],
      "execution_count": 17,
      "outputs": [
        {
          "output_type": "stream",
          "text": [
            "Coefficient of determination: 0.9454906892105354\n"
          ],
          "name": "stdout"
        }
      ]
    },
    {
      "cell_type": "markdown",
      "metadata": {
        "id": "VQ-oAbgjyh85"
      },
      "source": [
        "**Step 7 - Predicting the value for dependent variable (Scores)**"
      ]
    },
    {
      "cell_type": "markdown",
      "metadata": {
        "id": "pzL2M4aGELN-"
      },
      "source": [
        "Now predict the score of a student who studies for 9.25 hours."
      ]
    },
    {
      "cell_type": "code",
      "metadata": {
        "colab": {
          "base_uri": "https://localhost:8080/"
        },
        "id": "qUWrezygBF-z",
        "outputId": "d1b40784-49e6-45af-de50-aaeb83a1eba3"
      },
      "source": [
        "hours = 9.25\r\n",
        "own_pred = regressor.predict([[hours]])\r\n",
        "print(\"No of Hours = {}\".format(hours))\r\n",
        "print(\"Predicted Score = {}\".format(own_pred[0]))"
      ],
      "execution_count": 18,
      "outputs": [
        {
          "output_type": "stream",
          "text": [
            "No of Hours = 9.25\n",
            "Predicted Score = 93.69173248737539\n"
          ],
          "name": "stdout"
        }
      ]
    },
    {
      "cell_type": "markdown",
      "metadata": {
        "id": "nQbKFgz9Hb2Y"
      },
      "source": [
        "So if the student studies for 9.25 hours then the predicted value for score is 93.69 (using Simple linear regression)."
      ]
    }
  ]
}